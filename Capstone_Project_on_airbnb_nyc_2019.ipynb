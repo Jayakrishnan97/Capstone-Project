{
  "nbformat": 4,
  "nbformat_minor": 0,
  "metadata": {
    "colab": {
      "private_outputs": true,
      "provenance": [],
      "collapsed_sections": [
        "vncDsAP0Gaoa",
        "FJNUwmbgGyua",
        "w6K7xa23Elo4",
        "yQaldy8SH6Dl",
        "PH-0ReGfmX4f",
        "mDgbUHAGgjLW",
        "O_i_v8NEhb9l",
        "HhfV-JJviCcP",
        "Y3lxredqlCYt",
        "3RnN4peoiCZX",
        "x71ZqKXriCWQ",
        "7hBIi_osiCS2",
        "JlHwYmJAmNHm",
        "35m5QtbWiB9F",
        "PoPl-ycgm1ru",
        "H0kj-8xxnORC",
        "nA9Y7ga8ng1Z",
        "PBTbrJXOngz2",
        "u3PMJOP6ngxN",
        "dauF4eBmngu3",
        "bKJF3rekwFvQ",
        "MSa1f5Uengrz",
        "GF8Ens_Soomf",
        "0wOQAZs5pc--",
        "K5QZ13OEpz2H",
        "lQ7QKXXCp7Bj",
        "448CDAPjqfQr",
        "KSlN3yHqYklG",
        "t6dVpIINYklI",
        "ijmpgYnKYklI",
        "-JiQyfWJYklI",
        "EM7whBJCYoAo",
        "fge-S5ZAYoAp",
        "85gYPyotYoAp",
        "RoGjAbkUYoAp",
        "4Of9eVA-YrdM",
        "iky9q4vBYrdO",
        "F6T5p64dYrdO",
        "y-Ehk30pYrdP",
        "bamQiAODYuh1",
        "QHF8YVU7Yuh3",
        "GwzvFGzlYuh3",
        "qYpmQ266Yuh3",
        "OH-pJp9IphqM",
        "bbFf2-_FphqN",
        "_ouA3fa0phqN",
        "Seke61FWphqN",
        "PIIx-8_IphqN",
        "t27r6nlMphqO",
        "r2jJGEOYphqO",
        "b0JNsNcRphqO",
        "BZR9WyysphqO",
        "jj7wYXLtphqO",
        "eZrbJ2SmphqO",
        "rFu4xreNphqO",
        "YJ55k-q6phqO",
        "gCFgpxoyphqP",
        "OVtJsKN_phqQ",
        "lssrdh5qphqQ",
        "U2RJ9gkRphqQ",
        "1M8mcRywphqQ",
        "tgIPom80phqQ",
        "JMzcOPDDphqR",
        "x-EpHcCOp1ci",
        "X_VqEhTip1ck",
        "8zGJKyg5p1ck",
        "PVzmfK_Ep1ck",
        "n3dbpmDWp1ck",
        "ylSl6qgtp1ck",
        "ZWILFDl5p1ck",
        "M7G43BXep1ck",
        "Ag9LCva-p1cl",
        "E6MkPsBcp1cl",
        "2cELzS2fp1cl",
        "3MPXvC8up1cl",
        "NC_X3p0fY2L0",
        "UV0SzAkaZNRQ",
        "YPEH6qLeZNRQ",
        "q29F0dvdveiT",
        "EXh0U9oCveiU",
        "22aHeOlLveiV",
        "JcMwzZxoAimU",
        "8G2x9gOozGDZ",
        "gCX9965dhzqZ",
        "gIfDvo9L0UH2"
      ],
      "include_colab_link": true
    },
    "kernelspec": {
      "name": "python3",
      "display_name": "Python 3"
    },
    "language_info": {
      "name": "python"
    }
  },
  "cells": [
    {
      "cell_type": "markdown",
      "metadata": {
        "id": "view-in-github",
        "colab_type": "text"
      },
      "source": [
        "<a href=\"https://colab.research.google.com/github/Jayakrishnan97/Capstone-Project/blob/main/Capstone_Project_on_airbnb_nyc_2019.ipynb\" target=\"_parent\"><img src=\"https://colab.research.google.com/assets/colab-badge.svg\" alt=\"Open In Colab\"/></a>"
      ]
    },
    {
      "cell_type": "markdown",
      "source": [
        "# **Project Name**    - AirBnb Booking Analysis\n",
        "\n",
        "\n"
      ],
      "metadata": {
        "id": "vncDsAP0Gaoa"
      }
    },
    {
      "cell_type": "markdown",
      "source": [
        "##### **Project Type**    - EDA/Regression/Classification/Unsupervised\n",
        "##### **Contribution**    - Individual\n",
        "##### Team Member  - B JAYAKRISHNAN"
      ],
      "metadata": {
        "id": "beRrZCGUAJYm"
      }
    },
    {
      "cell_type": "markdown",
      "source": [
        "# **Project Summary -**"
      ],
      "metadata": {
        "id": "FJNUwmbgGyua"
      }
    },
    {
      "cell_type": "markdown",
      "source": [
        "In this project, i have taken 2019 airbnb data for analysis. It includes exloring, filtering and cleaning of the data, by deleting any duplicates and filled the missing and na values. For this i have used pandas dataframe.\n",
        "\n",
        "Next step i have framed 13 question that needed to be answered through this project which are interlinked with most price, place and their affects on availability and any pattern in these variables.\n",
        "\n",
        "I have calculated and visualized them for better understanding for which i  have used seaborn and matplotlib for visualization."
      ],
      "metadata": {
        "id": "F6v_1wHtG2nS"
      }
    },
    {
      "cell_type": "markdown",
      "source": [
        "# **GitHub Link -**"
      ],
      "metadata": {
        "id": "w6K7xa23Elo4"
      }
    },
    {
      "cell_type": "markdown",
      "source": [
        "Provide your GitHub Link here.\n",
        "\n",
        "\n",
        "https://github.com/Jayakrishnan97/Capstone-Project"
      ],
      "metadata": {
        "id": "h1o69JH3Eqqn"
      }
    },
    {
      "cell_type": "markdown",
      "source": [
        "# **Problem Statement**\n"
      ],
      "metadata": {
        "id": "yQaldy8SH6Dl"
      }
    },
    {
      "cell_type": "markdown",
      "source": [
        "1. What is the price distribution across the neighbourhood group?\n",
        "2. What are the most popular room type in different neighbourhood group?\n",
        "3. What are the average price in different neighbourhood?\n",
        "4. What are the most listing in Airbnb from a neighbourhood perspective?\n",
        "5. What are the minimum nights listed in Airbnd from a neighbourhood perspective?\n",
        "6. How many total reviews had been given to different neighbourhood?\n",
        "7. What are the availability in each neighbourhood in the next year?\n",
        "8. What are the top ten lowest and highest price in cities of all neighbourhood?\n",
        "9. What are the top ten most popular room types of all neighbourhood?\n",
        "10. What are the top ten highest min nights in all neighbourhood?\n",
        "11. Which are the top ten cities which got highest total reviews in airbnb 2019?\n",
        "12. What are the top ten most host listed cities?\n",
        "13. What are the top ten most available cities in the next year?"
      ],
      "metadata": {
        "id": "DpeJGUA3kjGy"
      }
    },
    {
      "cell_type": "markdown",
      "source": [
        "#### **Define Your Business Objective?**"
      ],
      "metadata": {
        "id": "PH-0ReGfmX4f"
      }
    },
    {
      "cell_type": "markdown",
      "source": [
        "Answer Here."
      ],
      "metadata": {
        "id": "PhDvGCAqmjP1"
      }
    },
    {
      "cell_type": "markdown",
      "source": [
        "# **General Guidelines** : -  "
      ],
      "metadata": {
        "id": "mDgbUHAGgjLW"
      }
    },
    {
      "cell_type": "markdown",
      "source": [
        "1.   Well-structured, formatted, and commented code is required.\n",
        "2.   Exception Handling, Production Grade Code & Deployment Ready Code will be a plus. Those students will be awarded some additional credits.\n",
        "     \n",
        "     The additional credits will have advantages over other students during Star Student selection.\n",
        "       \n",
        "             [ Note: - Deployment Ready Code is defined as, the whole .ipynb notebook should be executable in one go\n",
        "                       without a single error logged. ]\n",
        "\n",
        "3.   Each and every logic should have proper comments.\n",
        "4. You may add as many number of charts you want. Make Sure for each and every chart the following format should be answered.\n",
        "        \n",
        "\n",
        "```\n",
        "# Chart visualization code\n",
        "```\n",
        "            \n",
        "\n",
        "*   Why did you pick the specific chart?\n",
        "*   What is/are the insight(s) found from the chart?\n",
        "* Will the gained insights help creating a positive business impact?\n",
        "Are there any insights that lead to negative growth? Justify with specific reason.\n",
        "\n",
        "5. You have to create at least 20 logical & meaningful charts having important insights.\n",
        "\n",
        "\n",
        "[ Hints : - Do the Vizualization in  a structured way while following \"UBM\" Rule.\n",
        "\n",
        "U - Univariate Analysis,\n",
        "\n",
        "B - Bivariate Analysis (Numerical - Categorical, Numerical - Numerical, Categorical - Categorical)\n",
        "\n",
        "M - Multivariate Analysis\n",
        " ]\n",
        "\n",
        "\n",
        "\n"
      ],
      "metadata": {
        "id": "ZrxVaUj-hHfC"
      }
    },
    {
      "cell_type": "markdown",
      "source": [
        "# ***Let's Begin !***"
      ],
      "metadata": {
        "id": "O_i_v8NEhb9l"
      }
    },
    {
      "cell_type": "markdown",
      "source": [
        "## ***1. Know Your Data***"
      ],
      "metadata": {
        "id": "HhfV-JJviCcP"
      }
    },
    {
      "cell_type": "markdown",
      "source": [
        "### Import Libraries"
      ],
      "metadata": {
        "id": "Y3lxredqlCYt"
      }
    },
    {
      "cell_type": "code",
      "source": [
        "# Import Libraries\n",
        "import numpy as np\n",
        "import pandas as pd\n",
        "import matplotlib.pyplot as plt\n",
        "import seaborn as sns"
      ],
      "metadata": {
        "id": "M8Vqi-pPk-HR"
      },
      "execution_count": null,
      "outputs": []
    },
    {
      "cell_type": "markdown",
      "source": [
        "### Dataset Loading"
      ],
      "metadata": {
        "id": "3RnN4peoiCZX"
      }
    },
    {
      "cell_type": "code",
      "source": [
        "# Load Dataset\n",
        "\n",
        "from google.colab import drive\n",
        "drive.mount('/content/drive')"
      ],
      "metadata": {
        "id": "4CkvbW_SlZ_R"
      },
      "execution_count": null,
      "outputs": []
    },
    {
      "cell_type": "markdown",
      "source": [
        "### Dataset First View"
      ],
      "metadata": {
        "id": "x71ZqKXriCWQ"
      }
    },
    {
      "cell_type": "code",
      "source": [
        "# Dataset First Look\n",
        "filepath = \"/content/drive/MyDrive/Colab_Notebooks/Capstone_Project/Airbnb NYC 2019.csv\"\n",
        "\n",
        "df = pd.read_csv(filepath)"
      ],
      "metadata": {
        "id": "LWNFOSvLl09H"
      },
      "execution_count": null,
      "outputs": []
    },
    {
      "cell_type": "markdown",
      "source": [
        "### Dataset Rows & Columns count"
      ],
      "metadata": {
        "id": "7hBIi_osiCS2"
      }
    },
    {
      "cell_type": "code",
      "source": [
        "# Dataset Rows & Columns count\n",
        "df.shape"
      ],
      "metadata": {
        "id": "Kllu7SJgmLij"
      },
      "execution_count": null,
      "outputs": []
    },
    {
      "cell_type": "markdown",
      "source": [
        "### Dataset Information"
      ],
      "metadata": {
        "id": "JlHwYmJAmNHm"
      }
    },
    {
      "cell_type": "code",
      "source": [
        "# Dataset Info\n",
        "df.info()"
      ],
      "metadata": {
        "id": "e9hRXRi6meOf"
      },
      "execution_count": null,
      "outputs": []
    },
    {
      "cell_type": "markdown",
      "source": [
        "#### Duplicate Values"
      ],
      "metadata": {
        "id": "35m5QtbWiB9F"
      }
    },
    {
      "cell_type": "code",
      "source": [
        "# Dataset Duplicate Value Count\n",
        "df.duplicated().sum()\n",
        "\n",
        "#observation - no duplicate count"
      ],
      "metadata": {
        "id": "1sLdpKYkmox0"
      },
      "execution_count": null,
      "outputs": []
    },
    {
      "cell_type": "markdown",
      "source": [
        "#### Missing Values/Null Values"
      ],
      "metadata": {
        "id": "PoPl-ycgm1ru"
      }
    },
    {
      "cell_type": "code",
      "source": [
        "# Missing Values/Null Values Count\n",
        "df.isnull().sum()\n",
        "\n",
        "#observation - name, host_name, last_review, reviews_per_month has null values in which name, host_name are objet type, last_review in object format but to changed to date format and reviews_per_month are float type"
      ],
      "metadata": {
        "id": "GgHWkxvamxVg"
      },
      "execution_count": null,
      "outputs": []
    },
    {
      "cell_type": "code",
      "source": [
        "# Visualizing the missing values\n",
        "#creating a sub data frame where only columns with missing/null values exist\n",
        "df1 = df[df.columns[df.isna().any()]]\n",
        "\n",
        "#assigning values to the x and y\n",
        "x = df1.columns\n",
        "y = df1.isna().sum()\n",
        "\n",
        "#plot the line plot as the difference between two variable are farther so in other\n",
        "plt.plot(x,y)\n",
        "plt.xlabel(\"Category\")\n",
        "plt.ylabel(\"Missing Values\")\n",
        "plt.title(\"Category vs Missing Values\")"
      ],
      "metadata": {
        "id": "3q5wnI3om9sJ"
      },
      "execution_count": null,
      "outputs": []
    },
    {
      "cell_type": "markdown",
      "source": [
        "### What did you know about your dataset?"
      ],
      "metadata": {
        "id": "H0kj-8xxnORC"
      }
    },
    {
      "cell_type": "markdown",
      "source": [
        "In my data set, total 16 columns are there in which 4 columns have missing values. while 2 are object type, where only 16 and 21 we can either remove or change their value to unknown. the last_review column is a date where last_review has given. As the missing dates are huge in volume, we cannot drop them, so its better to change them to unknown. And lastly reviews per month also has huge missing values so its better to fill it with 0"
      ],
      "metadata": {
        "id": "gfoNAAC-nUe_"
      }
    },
    {
      "cell_type": "markdown",
      "source": [
        "Replacing the missing values"
      ],
      "metadata": {
        "id": "TU5j-RhHXX8g"
      }
    },
    {
      "cell_type": "code",
      "source": [
        "df[\"name\"].fillna(\"unknown\", inplace = True)\n",
        "df[\"host_name\"].fillna(\"None\", inplace = True)\n",
        "df[\"reviews_per_month\"].fillna(0, inplace = True)\n",
        "df[\"last_review\"].fillna(\"unknown\", inplace = True)"
      ],
      "metadata": {
        "id": "RZ0p9h6yXWwq"
      },
      "execution_count": null,
      "outputs": []
    },
    {
      "cell_type": "code",
      "source": [
        "df.info()"
      ],
      "metadata": {
        "id": "3uIi0-HhY7Q3"
      },
      "execution_count": null,
      "outputs": []
    },
    {
      "cell_type": "markdown",
      "source": [
        "## ***2. Understanding Your Variables***"
      ],
      "metadata": {
        "id": "nA9Y7ga8ng1Z"
      }
    },
    {
      "cell_type": "code",
      "source": [
        "# Dataset Columns\n",
        "df.columns"
      ],
      "metadata": {
        "id": "j7xfkqrt5Ag5"
      },
      "execution_count": null,
      "outputs": []
    },
    {
      "cell_type": "code",
      "source": [
        "# Dataset Describe\n",
        "df.describe()"
      ],
      "metadata": {
        "id": "DnOaZdaE5Q5t"
      },
      "execution_count": null,
      "outputs": []
    },
    {
      "cell_type": "markdown",
      "source": [
        "### Variables Description"
      ],
      "metadata": {
        "id": "PBTbrJXOngz2"
      }
    },
    {
      "cell_type": "markdown",
      "source": [
        "1.name, host_name, neighbourhood_group room_type are object\n",
        "\n",
        "2.id, host_id, price, minimum_nights, number_of_reviews, reviews_per_month, calculated_host_listings_count, availability_365 are int64 types\n",
        "\n",
        "3.latitude and longitude are float64 types\n",
        "\n",
        "4.last_review are in object type but they are actually dates as we do not use that columns we are not changing to date type"
      ],
      "metadata": {
        "id": "aJV4KIxSnxay"
      }
    },
    {
      "cell_type": "markdown",
      "source": [
        "### Check Unique Values for each variable."
      ],
      "metadata": {
        "id": "u3PMJOP6ngxN"
      }
    },
    {
      "cell_type": "code",
      "source": [
        "# Check Unique Values for each variable.\n",
        "df.nunique()"
      ],
      "metadata": {
        "id": "zms12Yq5n-jE"
      },
      "execution_count": null,
      "outputs": []
    },
    {
      "cell_type": "markdown",
      "source": [
        "## 3. ***Data Wrangling***"
      ],
      "metadata": {
        "id": "dauF4eBmngu3"
      }
    },
    {
      "cell_type": "markdown",
      "source": [
        "### Data Wrangling Code"
      ],
      "metadata": {
        "id": "bKJF3rekwFvQ"
      }
    },
    {
      "cell_type": "code",
      "source": [
        "# Write your code to make your dataset analysis ready.\n",
        "\n",
        "fig,ax = plt.subplots(1,2, figsize = (15,5))\n",
        "\n",
        "dist_plot_price = sns.distplot(ax = ax[0], x = df[\"price\"])\n",
        "\n",
        "box_plot_price = sns.boxplot(ax = ax[1], x = df[\"price\"])\n",
        "\n",
        "dist_plot_price.set(xlabel = \"Price\", title = \"Outliers Check\")\n",
        "box_plot_price.set(xlabel = \"price\", title = \"Outliers Check\")"
      ],
      "metadata": {
        "id": "wk-9a2fpoLcV"
      },
      "execution_count": null,
      "outputs": []
    },
    {
      "cell_type": "markdown",
      "source": [
        "As you can see the most of the data is in the range between 0 to 500, for that we you use outliers IQR method to filter."
      ],
      "metadata": {
        "id": "Yg7PxBfGAuis"
      }
    },
    {
      "cell_type": "code",
      "source": [
        "#IQR Method\n",
        "\n",
        "def func_iqr(Column):\n",
        "  Q1 = np.percentile(Column, 25)\n",
        "  Q3 = np.percentile(Column, 75)\n",
        "  IQR = Q3-Q1\n",
        "\n",
        "  lower_range = Q1 - (IQR * 1.5)\n",
        "  upper_range = Q3 + (IQR * 1.5)\n",
        "\n",
        "  return lower_range, upper_range"
      ],
      "metadata": {
        "id": "5a0K6Nv2Atn-"
      },
      "execution_count": null,
      "outputs": []
    },
    {
      "cell_type": "code",
      "source": [
        "lower_range, upper_range = func_iqr(df[\"price\"])\n",
        "\n",
        "print(f\"{lower_range}, {upper_range}\")\n",
        "\n",
        "df = df[(df.price>lower_range) & (df.price< upper_range)]\n"
      ],
      "metadata": {
        "id": "goEfs--V8eXF"
      },
      "execution_count": null,
      "outputs": []
    },
    {
      "cell_type": "markdown",
      "source": [
        "Lets see the final data frame shape and box plot of the price"
      ],
      "metadata": {
        "id": "yi0NgbvrEOlS"
      }
    },
    {
      "cell_type": "code",
      "source": [
        "df.shape\n",
        "\n",
        "sns.boxplot(x=df[\"price\"])"
      ],
      "metadata": {
        "id": "EEZeZpWVEM8g"
      },
      "execution_count": null,
      "outputs": []
    },
    {
      "cell_type": "markdown",
      "source": [
        "### What all manipulations have you done and insights you found?"
      ],
      "metadata": {
        "id": "MSa1f5Uengrz"
      }
    },
    {
      "cell_type": "markdown",
      "source": [
        "Most of the price data, which is an important category for our project has most of the value between 0 and 300. So we filtered out the rest of the data"
      ],
      "metadata": {
        "id": "LbyXE7I1olp8"
      }
    },
    {
      "cell_type": "markdown",
      "source": [
        "## ***4. Data Vizualization, Storytelling & Experimenting with charts : Understand the relationships between variables***"
      ],
      "metadata": {
        "id": "GF8Ens_Soomf"
      }
    },
    {
      "cell_type": "markdown",
      "source": [
        "# 1. what is the price distribution across the neighbourhood group?"
      ],
      "metadata": {
        "id": "0wOQAZs5pc--"
      }
    },
    {
      "cell_type": "code",
      "source": [
        "# Chart - 1\n",
        "sns.violinplot(x=df[\"neighbourhood_group\"], y = df[\"price\"])"
      ],
      "metadata": {
        "id": "7v_ESjsspbW7"
      },
      "execution_count": null,
      "outputs": []
    },
    {
      "cell_type": "markdown",
      "source": [
        "##### 1. Why did you pick the specific chart?"
      ],
      "metadata": {
        "id": "K5QZ13OEpz2H"
      }
    },
    {
      "cell_type": "markdown",
      "source": [
        "I picked the violin plot so that i can have the most of the price range for neighbourhood group"
      ],
      "metadata": {
        "id": "XESiWehPqBRc"
      }
    },
    {
      "cell_type": "markdown",
      "source": [
        "##### 2. What is/are the insight(s) found from the chart?"
      ],
      "metadata": {
        "id": "lQ7QKXXCp7Bj"
      }
    },
    {
      "cell_type": "markdown",
      "source": [
        "1. Manhattan has the highest price.\n",
        "2. Bronx has the least price.\n",
        "3. Queens and Staten Island has the same price range of least and highest\n",
        "4. Brooklyn has the second highest price after Manhattan"
      ],
      "metadata": {
        "id": "C_j1G7yiqdRP"
      }
    },
    {
      "cell_type": "markdown",
      "source": [
        "# 2. What are the most popular room type in different neighbourhood group?"
      ],
      "metadata": {
        "id": "KSlN3yHqYklG"
      }
    },
    {
      "cell_type": "code",
      "source": [
        "# Chart - 2 neighbourhood_group vs room type\n",
        "\n",
        "\n",
        "df_neighbourhood_group_room = df[[\"neighbourhood_group\",\"room_type\"]]\n",
        "\n",
        "room_type_group = df_neighbourhood_group_room.groupby(\"neighbourhood_group\").value_counts().reset_index(name = \"count\")\n",
        "\n",
        "room_type_group"
      ],
      "metadata": {
        "id": "R4YgtaqtYklH"
      },
      "execution_count": null,
      "outputs": []
    },
    {
      "cell_type": "code",
      "source": [
        "fig, ax = plt.subplots(figsize = (15,4))\n",
        "\n",
        "ax = sns.barplot(x = \"room_type\", y = \"count\", hue = \"neighbourhood_group\", dodge = True, data = room_type_group)"
      ],
      "metadata": {
        "id": "LLi9gQz-ziOZ"
      },
      "execution_count": null,
      "outputs": []
    },
    {
      "cell_type": "markdown",
      "source": [
        "##### 1. Why did you pick the specific chart?"
      ],
      "metadata": {
        "id": "t6dVpIINYklI"
      }
    },
    {
      "cell_type": "markdown",
      "source": [
        "stacked histogram charts are better for calculating the same variables in different group."
      ],
      "metadata": {
        "id": "5aaW0BYyYklI"
      }
    },
    {
      "cell_type": "markdown",
      "source": [
        "##### 2. What is/are the insight(s) found from the chart?"
      ],
      "metadata": {
        "id": "ijmpgYnKYklI"
      }
    },
    {
      "cell_type": "markdown",
      "source": [
        "The most popular room is Entire home/apt in manhattan. Second highest is private room in Brooklyn. Least popular room is shared room in staten island. Also private room and entire home/apt in brooklyn has good bookings. While all rooms in bronx and shared room in all areas are not having good bookings."
      ],
      "metadata": {
        "id": "PSx9atu2YklI"
      }
    },
    {
      "cell_type": "markdown",
      "source": [
        "# 3. What are the average price in different neighbourhood?"
      ],
      "metadata": {
        "id": "EM7whBJCYoAo"
      }
    },
    {
      "cell_type": "code",
      "source": [
        "# Chart - 3 visualization code\n",
        "\n",
        "#creating sub data frame\n",
        "df_neighbourhood_group_price = df[[\"neighbourhood_group\", \"price\"]]\n",
        "\n",
        "#calculating the average price by neighbourhood group\n",
        "df_price = df_neighbourhood_group_price.groupby([\"neighbourhood_group\"]).agg({\"price\":\"mean\"}).reset_index()\n",
        "\n",
        "#visualization\n",
        "sns.catplot(data = df_price, x = \"neighbourhood_group\", y = \"price\", kind = \"point\")\n"
      ],
      "metadata": {
        "id": "t6GMdE67YoAp"
      },
      "execution_count": null,
      "outputs": []
    },
    {
      "cell_type": "markdown",
      "source": [
        "##### 1. Why did you pick the specific chart?"
      ],
      "metadata": {
        "id": "fge-S5ZAYoAp"
      }
    },
    {
      "cell_type": "markdown",
      "source": [
        "as this chart shows different pattern in different colors and also used bar for knowing the difference"
      ],
      "metadata": {
        "id": "5dBItgRVYoAp"
      }
    },
    {
      "cell_type": "markdown",
      "source": [
        "##### 2. What is/are the insight(s) found from the chart?"
      ],
      "metadata": {
        "id": "85gYPyotYoAp"
      }
    },
    {
      "cell_type": "markdown",
      "source": [
        "1. Manhattan is the highest avg price city and Bronx is the lowest avg price city.\n",
        "2. Also Brooklyn is the Second highest avg price city.\n",
        "3. while Queens and Staten Island is neither Highest nor lowest while it meets in the middle."
      ],
      "metadata": {
        "id": "4jstXR6OYoAp"
      }
    },
    {
      "cell_type": "markdown",
      "source": [
        "# 4. What are the most listing in Airbnb from a neighbourhood perspective?"
      ],
      "metadata": {
        "id": "4Of9eVA-YrdM"
      }
    },
    {
      "cell_type": "code",
      "source": [
        "# Chart - 4 visualization code\n",
        "\n",
        "#calculating the neighbourgroup listing by count method\n",
        "neighbour_counts = df['neighbourhood_group'].value_counts().reset_index()\n",
        "\n",
        "#naming the columns\n",
        "neighbour_counts.columns = [\"neighbourhood\", \"listing\"]\n",
        "\n",
        "neighbour_counts\n",
        "#visualiztion\n",
        "sns.catplot(data = neighbour_counts, x = \"neighbourhood\", y = \"listing\", kind = \"bar\")"
      ],
      "metadata": {
        "id": "irlUoxc8YrdO"
      },
      "execution_count": null,
      "outputs": []
    },
    {
      "cell_type": "markdown",
      "source": [
        "##### 1. Why did you pick the specific chart?"
      ],
      "metadata": {
        "id": "iky9q4vBYrdO"
      }
    },
    {
      "cell_type": "markdown",
      "source": [
        "So we differentiate between both variables."
      ],
      "metadata": {
        "id": "aJRCwT6DYrdO"
      }
    },
    {
      "cell_type": "markdown",
      "source": [],
      "metadata": {
        "id": "Qi3Kp5GurEIE"
      }
    },
    {
      "cell_type": "markdown",
      "source": [
        "##### 2. What is/are the insight(s) found from the chart?"
      ],
      "metadata": {
        "id": "F6T5p64dYrdO"
      }
    },
    {
      "cell_type": "markdown",
      "source": [
        "1. Both Manhattan and Brooklyn has the highest number of listings.\n",
        "2. Bronx and Staten Island has the least number of listings.\n",
        "3. Queens has only 6000 listings as difference from 19000 each of brooklyn and manhattan  listings."
      ],
      "metadata": {
        "id": "Xx8WAJvtYrdO"
      }
    },
    {
      "cell_type": "markdown",
      "source": [
        "##### 3. Will the gained insights help creating a positive business impact?\n",
        "Are there any insights that lead to negative growth? Justify with specific reason."
      ],
      "metadata": {
        "id": "y-Ehk30pYrdP"
      }
    },
    {
      "cell_type": "markdown",
      "source": [
        "Answer Here"
      ],
      "metadata": {
        "id": "jLNxxz7MYrdP"
      }
    },
    {
      "cell_type": "markdown",
      "source": [
        "# 5. What are the minimum nights listed in Airbnd from a neighbourhood perspective?"
      ],
      "metadata": {
        "id": "bamQiAODYuh1"
      }
    },
    {
      "cell_type": "code",
      "source": [
        "#create a sub dataframe of only 2 variables that we needed\n",
        "df_neighbourhood_nights = df[[\"neighbourhood_group\",\"minimum_nights\"]]\n",
        "\n",
        "#creating dataframes as per neighbourhood group\n",
        "df_neighbourhood_nights_Brooklyn = df_neighbourhood_nights[df_neighbourhood_nights[\"neighbourhood_group\"] == \"Brooklyn\"]\n",
        "\n",
        "df_neighbourhood_nights_Manhattan = df_neighbourhood_nights[df_neighbourhood_nights[\"neighbourhood_group\"] == \"Manhattan\"]\n",
        "\n",
        "df_neighbourhood_nights_Queens = df_neighbourhood_nights[df_neighbourhood_nights[\"neighbourhood_group\"] == \"Queens\"]\n",
        "\n",
        "df_neighbourhood_nights_Staten_Island = df_neighbourhood_nights[df_neighbourhood_nights[\"neighbourhood_group\"] == \"Staten Island\"]\n",
        "\n",
        "df_neighbourhood_nights_Bronx = df_neighbourhood_nights[df_neighbourhood_nights[\"neighbourhood_group\"] == \"Bronx\"]\n",
        "\n",
        "# counting the minimum nights as per neighbourhood, sorting in descending values, and only showing top 10 of them\n",
        "min_nights_count_Brooklyn = df_neighbourhood_nights_Brooklyn.groupby(\"minimum_nights\").size().reset_index(name = \"count\").sort_values('count', ascending=False).head(10)\n",
        "\n",
        "min_nights_count_Manhattan = df_neighbourhood_nights_Manhattan.groupby(\"minimum_nights\").size().reset_index(name = \"count\").sort_values('count', ascending=False).head(10)\n",
        "\n",
        "min_nights_count_Queens = df_neighbourhood_nights_Queens.groupby(\"minimum_nights\").size().reset_index(name = \"count\").sort_values('count', ascending=False).head(10)\n",
        "\n",
        "min_nights_count_Staten_Island = df_neighbourhood_nights_Staten_Island.groupby(\"minimum_nights\").size().reset_index(name = \"count\").sort_values('count', ascending= False).head(10)\n",
        "\n",
        "min_nights_count_Bronx = df_neighbourhood_nights_Bronx.groupby(\"minimum_nights\").size().reset_index(name = \"count\").sort_values('count', ascending=False).head(10)"
      ],
      "metadata": {
        "id": "TIJwrbroYuh3"
      },
      "execution_count": null,
      "outputs": []
    },
    {
      "cell_type": "code",
      "source": [
        "#visualization of plots\n",
        "\n",
        "#creating a 3 rows and 2 columns subplots\n",
        "fig,ax = plt.subplots(3,2, figsize = (20,6))\n",
        "\n",
        "#subplot 1 - set x, y and title\n",
        "ax[0][0].bar(min_nights_count_Brooklyn['minimum_nights'],min_nights_count_Brooklyn['count'])\n",
        "ax[0][0].set_xlabel(\"minimun nights\", fontsize = \"10\")\n",
        "ax[0][0].set_ylabel(\"count\", fontsize = \"10\")\n",
        "ax[0][0].set_title(\"Min nights vs count in Brooklyn\", fontsize = \"14\")\n",
        "\n",
        "#subplot 2 - set x, y and title\n",
        "ax[0][1].bar(min_nights_count_Manhattan['minimum_nights'],min_nights_count_Manhattan['count'])\n",
        "ax[0][1].set_xlabel(\"minimun nights\", fontsize = \"10\")\n",
        "ax[0][1].set_ylabel(\"count\", fontsize = \"10\")\n",
        "ax[0][1].set_title(\"Min nights vs count in Manhattan\", fontsize = \"14\")\n",
        "\n",
        "#subplot 3 - set x, y and title\n",
        "ax[1][0].bar(min_nights_count_Queens['minimum_nights'],min_nights_count_Queens['count'])\n",
        "ax[1][0].set_xlabel(\"minimun nights\", fontsize = \"10\")\n",
        "ax[1][0].set_ylabel(\"count\", fontsize = \"10\")\n",
        "ax[1][0].set_title(\"Min nights vs count in Queens\", fontsize = \"14\")\n",
        "\n",
        "#subplot 4 - set x, y and title\n",
        "ax[1][1].bar(min_nights_count_Staten_Island['minimum_nights'],min_nights_count_Staten_Island['count'])\n",
        "ax[1][1].set_xlabel(\"minimun nights\", fontsize = \"10\")\n",
        "ax[1][1].set_ylabel(\"count\", fontsize = \"10\")\n",
        "ax[1][1].set_title(\"Min nights vs count in Staten Island\", fontsize = \"14\")\n",
        "\n",
        "#subplot 5 - set x, y and title\n",
        "ax[2][0].bar(min_nights_count_Bronx['minimum_nights'],min_nights_count_Bronx['count'])\n",
        "ax[2][0].set_xlabel(\"minimun nights\", fontsize = \"10\")\n",
        "ax[2][0].set_ylabel(\"count\", fontsize = \"10\")\n",
        "ax[2][0].set_title(\"Min nights vs count in Bronx\", fontsize = \"14\")\n",
        "\n",
        "#deleting the 6th subplot that we do not intend to use\n",
        "fig.delaxes(ax[2,1])\n",
        "\n",
        "#for spacing between layouts\n",
        "fig.tight_layout()\n",
        "plt.show()\n"
      ],
      "metadata": {
        "id": "E_AfLOlj7-Ka"
      },
      "execution_count": null,
      "outputs": []
    },
    {
      "cell_type": "markdown",
      "source": [
        "##### 1. Why did you pick the specific chart?"
      ],
      "metadata": {
        "id": "QHF8YVU7Yuh3"
      }
    },
    {
      "cell_type": "markdown",
      "source": [
        "This bar chart provides a clear insight of how many minimun nights has the highest in each neighbourhood"
      ],
      "metadata": {
        "id": "dcxuIMRPYuh3"
      }
    },
    {
      "cell_type": "markdown",
      "source": [
        "##### 2. What is/are the insight(s) found from the chart?"
      ],
      "metadata": {
        "id": "GwzvFGzlYuh3"
      }
    },
    {
      "cell_type": "markdown",
      "source": [
        "1. Brooklyn has 5000 listing for 2 minimum nights, 4000 for 1 minimum nights and 3000 for 3 minimum nights. Also it has 994 listing for 30 minimum nights.\n",
        "2. Manhattan has 5000 listing for 1 minimum nights, 4000 for 2 minimum nights and 3000 for 3 minimum nights.\n",
        "3. Queens has 2000 listing for 1 minimum nights, 1300 for 2 minimum nights and 696 for 3 minimum nights.\n",
        "4. Staten Island has 121 listing for 2 minimum nights, 110 for 1 minimum nights and 46 for 3 minimum nights.\n",
        "5. Bronx has 350 listing for 1 minimum nights, 340 for 2 minimum nights and 178 for 3 minimum nights."
      ],
      "metadata": {
        "id": "uyqkiB8YYuh3"
      }
    },
    {
      "cell_type": "markdown",
      "source": [
        "# 6. How many total reviews had been given to different neighbourhood?"
      ],
      "metadata": {
        "id": "OH-pJp9IphqM"
      }
    },
    {
      "cell_type": "code",
      "source": [
        "# Chart - 6 visualization code\n",
        "\n",
        "#creating a sub dataframe using only 2 variables\n",
        "df_neighbourhood_review = df[[\"neighbourhood_group\",\"number_of_reviews\"]]\n",
        "\n",
        "#sum of total reviews by neighbourhood_group\n",
        "df_neighbourhood_review_total = df_neighbourhood_review.groupby(\"neighbourhood_group\")[\"number_of_reviews\"].sum()\n",
        "\n",
        "#visualizing using a pie chart\n",
        "plt.pie(df_neighbourhood_review_total, labels = df_neighbourhood_review_total.index, autopct = '%1.1f%%')"
      ],
      "metadata": {
        "id": "kuRf4wtuphqN"
      },
      "execution_count": null,
      "outputs": []
    },
    {
      "cell_type": "markdown",
      "source": [
        "##### 1. Why did you pick the specific chart?"
      ],
      "metadata": {
        "id": "bbFf2-_FphqN"
      }
    },
    {
      "cell_type": "markdown",
      "source": [
        "I wanted to use a pie chart so that it can easy to visualize the share of reviews by each neighbourhood group"
      ],
      "metadata": {
        "id": "loh7H2nzphqN"
      }
    },
    {
      "cell_type": "markdown",
      "source": [
        "##### 2. What is/are the insight(s) found from the chart?"
      ],
      "metadata": {
        "id": "_ouA3fa0phqN"
      }
    },
    {
      "cell_type": "markdown",
      "source": [
        "1. Brooklyn has the highest number of reviews followed by Manhattan.\n",
        "2.Staten Island has the least number of reviews preceded by Bronx.\n",
        "3. Queens only has 14.2% reviews."
      ],
      "metadata": {
        "id": "VECbqPI7phqN"
      }
    },
    {
      "cell_type": "markdown",
      "source": [
        "##### 3. Will the gained insights help creating a positive business impact?\n",
        "Are there any insights that lead to negative growth? Justify with specific reason."
      ],
      "metadata": {
        "id": "Seke61FWphqN"
      }
    },
    {
      "cell_type": "markdown",
      "source": [
        "Answer Here"
      ],
      "metadata": {
        "id": "DW4_bGpfphqN"
      }
    },
    {
      "cell_type": "markdown",
      "source": [
        "# What are the availability in each neighbourhood in the next year?"
      ],
      "metadata": {
        "id": "PIIx-8_IphqN"
      }
    },
    {
      "cell_type": "code",
      "source": [
        "# Chart - 7 visualization code\n",
        "\n",
        "#creating a sub data frame using 2 variables\n",
        "df_neighbourhood_availability = df[[\"neighbourhood_group\",\"availability_365\"]]\n",
        "\n",
        "#average days availability\n",
        "df_neighbourhood_availability_group =  df_neighbourhood_availability.groupby(\"neighbourhood_group\")[\"availability_365\"].mean()\n",
        "\n",
        "#visualization\n",
        "df_neighbourhood_availability_group.plot(kind = \"bar\", color = \"green\")"
      ],
      "metadata": {
        "id": "lqAIGUfyphqO"
      },
      "execution_count": null,
      "outputs": []
    },
    {
      "cell_type": "markdown",
      "source": [
        "##### 1. Why did you pick the specific chart?"
      ],
      "metadata": {
        "id": "t27r6nlMphqO"
      }
    },
    {
      "cell_type": "markdown",
      "source": [
        "so that i can show the difference in neighbourhood availability."
      ],
      "metadata": {
        "id": "iv6ro40sphqO"
      }
    },
    {
      "cell_type": "markdown",
      "source": [
        "##### 2. What is/are the insight(s) found from the chart?"
      ],
      "metadata": {
        "id": "r2jJGEOYphqO"
      }
    },
    {
      "cell_type": "markdown",
      "source": [
        "1. Staten Island has the highest availability for next year with 200 days average followed by Bronx and Queens with 175 and 140 each.\n",
        "2. Manhattan and Brooklyn has the least availability with 100 and9 90 days."
      ],
      "metadata": {
        "id": "Po6ZPi4hphqO"
      }
    },
    {
      "cell_type": "markdown",
      "source": [
        "##### 3. Will the gained insights help creating a positive business impact?\n",
        "Are there any insights that lead to negative growth? Justify with specific reason."
      ],
      "metadata": {
        "id": "b0JNsNcRphqO"
      }
    },
    {
      "cell_type": "markdown",
      "source": [
        "Answer Here"
      ],
      "metadata": {
        "id": "xvSq8iUTphqO"
      }
    },
    {
      "cell_type": "markdown",
      "source": [
        "# 8. What are the top ten lowest and highest price in cities of all neighbourhood?"
      ],
      "metadata": {
        "id": "BZR9WyysphqO"
      }
    },
    {
      "cell_type": "code",
      "source": [
        "# Chart - 8 visualization\n",
        "\n",
        "df_neighbourhood_group_price = df[[\"neighbourhood\",\"neighbourhood_group\", \"price\"]]\n",
        "\n",
        "df_neighbourhood_group_price_group_lowest = df_neighbourhood_group_price.groupby(\"neighbourhood\").mean().reset_index().rename(columns = {\"price\": 'avg price'}).sort_values(\"avg price\").head(10)\n",
        "\n",
        "df_neighbourhood_group_price_group_highest = df_neighbourhood_group_price.groupby(\"neighbourhood\").mean().reset_index().rename(columns = {\"price\": 'avg price'}).sort_values(\"avg price\", ascending = False).head(10)\n",
        "\n",
        "df_neighbourhood_group_price_group_lowest = df_neighbourhood_group_price_group_lowest.join(df_neighbourhood_group_price[['neighbourhood','neighbourhood_group']].drop_duplicates().set_index(\"neighbourhood\"), on= \"neighbourhood\")\n",
        "\n",
        "df_neighbourhood_group_price_group_highest = df_neighbourhood_group_price_group_highest.join(df_neighbourhood_group_price[['neighbourhood','neighbourhood_group']].drop_duplicates().set_index(\"neighbourhood\"), on= \"neighbourhood\")\n",
        "\n",
        "df_neighbourhood_group_price_group_highest.style.hide_index()"
      ],
      "metadata": {
        "id": "TdPTWpAVphqO"
      },
      "execution_count": null,
      "outputs": []
    },
    {
      "cell_type": "code",
      "source": [
        "df_neighbourhood_group_price_group_lowest.style.hide_index()"
      ],
      "metadata": {
        "id": "25dXFsC_c8VF"
      },
      "execution_count": null,
      "outputs": []
    },
    {
      "cell_type": "code",
      "source": [
        "# Extract the values from the dataset\n",
        "neighborhoods1 = df_neighbourhood_group_price_group_lowest['neighbourhood']\n",
        "prices1 = df_neighbourhood_group_price_group_lowest['avg price']\n",
        "\n",
        "neighborhoods2 = df_neighbourhood_group_price_group_highest['neighbourhood']\n",
        "prices2 = df_neighbourhood_group_price_group_highest['avg price']\n",
        "\n",
        "# Create the bar plot\n",
        "plt.figure(figsize=(15,5))\n",
        "plt.bar(neighborhoods1, prices1,width=0.5, color = 'Green')\n",
        "plt.xlabel('Neighborhood')\n",
        "plt.ylabel('Average Price')\n",
        "plt.title('Lowest Average Price by Neighborhood')\n",
        "\n",
        "plt.figure(figsize=(15,5))\n",
        "plt.bar(neighborhoods2, prices2, width=0.5, color = 'Purple')\n",
        "plt.xlabel('Neighborhood')\n",
        "plt.ylabel('Average Price')\n",
        "plt.title('Highest Average Price by Neighborhood')\n",
        "\n",
        "# Show the plot\n",
        "plt.show()"
      ],
      "metadata": {
        "id": "uXJNEnhXdF0h"
      },
      "execution_count": null,
      "outputs": []
    },
    {
      "cell_type": "markdown",
      "source": [
        "##### 1. Why did you pick the specific chart?"
      ],
      "metadata": {
        "id": "jj7wYXLtphqO"
      }
    },
    {
      "cell_type": "markdown",
      "source": [
        "To calculate the difference in different neighbourhood"
      ],
      "metadata": {
        "id": "Ob8u6rCTphqO"
      }
    },
    {
      "cell_type": "markdown",
      "source": [
        "##### 2. What is/are the insight(s) found from the chart?"
      ],
      "metadata": {
        "id": "eZrbJ2SmphqO"
      }
    },
    {
      "cell_type": "markdown",
      "source": [
        "1. Bulls head in staten island is the lowest avg price followed by hunts point, tremont and sound view in Bronx.\n",
        "2. In between 47 and 59, we got 5 staten island, 4 Bronx and 1 queens neighbourhood in the lowest average price.\n",
        "3. Willowbrook in Staten island is the highest avg price followed by Neponsit and Breezy point in Queens.\n",
        "4. In between 250 and 179, we got 1 staten island, 2 Queens and 7 Manhattan neighbourhood in the highest average price"
      ],
      "metadata": {
        "id": "mZtgC_hjphqO"
      }
    },
    {
      "cell_type": "markdown",
      "source": [
        "##### 3. Will the gained insights help creating a positive business impact?\n",
        "Are there any insights that lead to negative growth? Justify with specific reason."
      ],
      "metadata": {
        "id": "rFu4xreNphqO"
      }
    },
    {
      "cell_type": "markdown",
      "source": [
        "Answer Here"
      ],
      "metadata": {
        "id": "ey_0qi68phqO"
      }
    },
    {
      "cell_type": "markdown",
      "source": [
        "# 9. What are the top ten most popular room types of all neighbourhood?"
      ],
      "metadata": {
        "id": "YJ55k-q6phqO"
      }
    },
    {
      "cell_type": "code",
      "source": [
        "# Chart - 9 visualization code\n",
        "\n",
        "#create a sub data frame\n",
        "df_neighbourhood_room = df[[\"neighbourhood\", \"room_type\"]]\n",
        "\n",
        "#calculating the number of room by value counts\n",
        "df_neighbourhood_room_group = df_neighbourhood_room.groupby(\"neighbourhood\")[\"room_type\"].value_counts().reset_index(name = \"count\").sort_values(\"count\",ascending = False)\n",
        "\n",
        "#filtering the data frame by type of room\n",
        "df_neighbourhood_room_group_private_room =  df_neighbourhood_room_group[df_neighbourhood_room_group[\"room_type\"] == \"Private room\"].head(10)\n",
        "\n",
        "df_neighbourhood_room_group_entire_home = df_neighbourhood_room_group[df_neighbourhood_room_group[\"room_type\"] == \"Entire home/apt\"].head(10)\n",
        "\n",
        "df_neighbourhood_room_group_shared_room = df_neighbourhood_room_group[df_neighbourhood_room_group[\"room_type\"] == \"Shared room\"].head(10)"
      ],
      "metadata": {
        "id": "B2aS4O1ophqO"
      },
      "execution_count": null,
      "outputs": []
    },
    {
      "cell_type": "code",
      "source": [
        "#assigning the variables for easy visualization\n",
        "private_neighbourhood = df_neighbourhood_room_group_private_room[\"neighbourhood\"]\n",
        "private_count = df_neighbourhood_room_group_private_room[\"count\"]\n",
        "\n",
        "entirehome_neighbourhood = df_neighbourhood_room_group_entire_home[\"neighbourhood\"]\n",
        "entirehome_count = df_neighbourhood_room_group_entire_home[\"count\"]\n",
        "\n",
        "shared_neighbourhood = df_neighbourhood_room_group_shared_room[\"neighbourhood\"]\n",
        "shared_count = df_neighbourhood_room_group_shared_room[\"count\"]\n",
        "\n",
        "#visualization\n",
        "plt.figure(figsize = (15,5))\n",
        "plt.bar(private_neighbourhood,private_count)\n",
        "plt.xlabel(\"Neighbourhood\")\n",
        "plt.ylabel(\"Count\")\n",
        "plt.title(\"Neighbourhood vs Count in Private rooms\")\n",
        "\n",
        "\n",
        "plt.figure(figsize = (15,5))\n",
        "plt.bar(entirehome_neighbourhood,entirehome_count)\n",
        "plt.xlabel(\"Neighbourhood\")\n",
        "plt.ylabel(\"Count\")\n",
        "plt.title(\"Neighbourhood vs Count in Entire/Home rooms\")\n",
        "\n",
        "\n",
        "plt.figure(figsize = (15,5))\n",
        "plt.bar(shared_neighbourhood,shared_count)\n",
        "plt.xlabel(\"Neighbourhood\")\n",
        "plt.ylabel(\"Count\")\n",
        "plt.title(\"Neighbourhood vs Count in Shared rooms\")\n",
        "\n",
        "plt.show()"
      ],
      "metadata": {
        "id": "O-6RpN6yi-cq"
      },
      "execution_count": null,
      "outputs": []
    },
    {
      "cell_type": "markdown",
      "source": [
        "##### 1. Why did you pick the specific chart?"
      ],
      "metadata": {
        "id": "gCFgpxoyphqP"
      }
    },
    {
      "cell_type": "markdown",
      "source": [
        "to compare neighbourhood with each type of rooms."
      ],
      "metadata": {
        "id": "TVxDimi2phqP"
      }
    },
    {
      "cell_type": "markdown",
      "source": [
        "##### 2. What is/are the insight(s) found from the chart?"
      ],
      "metadata": {
        "id": "OVtJsKN_phqQ"
      }
    },
    {
      "cell_type": "markdown",
      "source": [
        "In private rooms, most were listed in Bedford-Stuyvesant with 2026 and williamsburg with 1977.\n",
        "\n",
        "In Entire home/apt rooms, most were listed in williamburg with 1723 and Bedford-Stuyvesant with 1528.\n",
        "\n",
        "In shared rooms, most were listed in Hell's kitchen with 95 and Bedford-Stuyvesant with 84. but in this session williamsburg have only 32 listing placing at 9 position in top 10."
      ],
      "metadata": {
        "id": "ngGi97qjphqQ"
      }
    },
    {
      "cell_type": "markdown",
      "source": [
        "##### 3. Will the gained insights help creating a positive business impact?\n",
        "Are there any insights that lead to negative growth? Justify with specific reason."
      ],
      "metadata": {
        "id": "lssrdh5qphqQ"
      }
    },
    {
      "cell_type": "markdown",
      "source": [
        "Answer Here"
      ],
      "metadata": {
        "id": "tBpY5ekJphqQ"
      }
    },
    {
      "cell_type": "markdown",
      "source": [
        "# 10. What are the top ten highest min nights in all neighbourhood?"
      ],
      "metadata": {
        "id": "U2RJ9gkRphqQ"
      }
    },
    {
      "cell_type": "code",
      "source": [
        "# Chart - 10 visualization code\n",
        "\n",
        "df_neighbourhood_min_nights = df[[\"neighbourhood\", \"minimum_nights\"]]\n",
        "\n",
        "df_neighbourhood_min_nights_group = df_neighbourhood_min_nights.groupby(\"neighbourhood\").mean().reset_index().rename(columns ={\"minimum_nights\":\"avg nights\"}).sort_values(\"avg nights\", ascending = False).head(10)\n",
        "\n",
        "neighbourhood = df_neighbourhood_min_nights_group[\"neighbourhood\"]\n",
        "average_nights = df_neighbourhood_min_nights_group[\"avg nights\"]\n",
        "\n",
        "plt.figure(figsize=(17,6))\n",
        "plt.plot(neighbourhood, average_nights)\n",
        "plt.xlabel(\"neighbourhood\")\n",
        "plt.ylabel(\"average nights\")\n",
        "plt.title(\"average nights in different neighbourhood\")\n"
      ],
      "metadata": {
        "id": "GM7a4YP4phqQ"
      },
      "execution_count": null,
      "outputs": []
    },
    {
      "cell_type": "markdown",
      "source": [
        "##### 1. Why did you pick the specific chart?"
      ],
      "metadata": {
        "id": "1M8mcRywphqQ"
      }
    },
    {
      "cell_type": "markdown",
      "source": [
        "to show the difference between the highest and other values"
      ],
      "metadata": {
        "id": "8agQvks0phqQ"
      }
    },
    {
      "cell_type": "markdown",
      "source": [
        "##### 2. What is/are the insight(s) found from the chart?"
      ],
      "metadata": {
        "id": "tgIPom80phqQ"
      }
    },
    {
      "cell_type": "markdown",
      "source": [
        "1. Spuyten Duyvil has the highest avg min nights with 60+ days.\n",
        "2. Second is North riverdale with 40+ avg min nights.\n",
        "3. But from third to 10 positions, they lie in between 25 to 10 days."
      ],
      "metadata": {
        "id": "Qp13pnNzphqQ"
      }
    },
    {
      "cell_type": "markdown",
      "source": [
        "##### 3. Will the gained insights help creating a positive business impact?\n",
        "Are there any insights that lead to negative growth? Justify with specific reason."
      ],
      "metadata": {
        "id": "JMzcOPDDphqR"
      }
    },
    {
      "cell_type": "markdown",
      "source": [
        "Answer Here"
      ],
      "metadata": {
        "id": "R4Ka1PC2phqR"
      }
    },
    {
      "cell_type": "markdown",
      "source": [
        "# 11. Which are the top ten cities which got highest total reviews in airbnb 2019?"
      ],
      "metadata": {
        "id": "x-EpHcCOp1ci"
      }
    },
    {
      "cell_type": "code",
      "source": [
        "# Chart - 11 visualization code\n",
        "\n",
        "#create a separate dataframe\n",
        "df_neighbourhood_review_month = df[[\"neighbourhood\",\"reviews_per_month\"]]\n",
        "\n",
        "#calculating the total reviews\n",
        "df_neighbourhood_review_month_total =df_neighbourhood_review_month.groupby(\"neighbourhood\")[\"reviews_per_month\"].sum().reset_index().rename(columns = {\"reviews_per_month\": \"total_reviews\"}).sort_values(\"total_reviews\", ascending = False).head(10)\n",
        "\n",
        "df_neighbourhood_review_month_total"
      ],
      "metadata": {
        "id": "mAQTIvtqp1cj"
      },
      "execution_count": null,
      "outputs": []
    },
    {
      "cell_type": "code",
      "source": [
        "#assigning the variables\n",
        "x = df_neighbourhood_review_month_total[\"neighbourhood\"]\n",
        "y = df_neighbourhood_review_month_total[\"total_reviews\"]\n",
        "\n",
        "#visualization\n",
        "plt.figure(figsize = (16,4))\n",
        "plt.bar(x,y)\n",
        "plt.xlabel(\"Neighbourhood\")\n",
        "plt.ylabel(\"Total Reviews\")\n",
        "plt.title(\"Neighbourhood vs Total Reviews\")"
      ],
      "metadata": {
        "id": "6n3hC3I0xtO_"
      },
      "execution_count": null,
      "outputs": []
    },
    {
      "cell_type": "markdown",
      "source": [
        "##### 1. Why did you pick the specific chart?"
      ],
      "metadata": {
        "id": "X_VqEhTip1ck"
      }
    },
    {
      "cell_type": "markdown",
      "source": [
        "i wanted to check which neighbourhood got highest sum of reviews. Bar chart is great for showing that."
      ],
      "metadata": {
        "id": "-vsMzt_np1ck"
      }
    },
    {
      "cell_type": "markdown",
      "source": [
        "##### 2. What is/are the insight(s) found from the chart?"
      ],
      "metadata": {
        "id": "8zGJKyg5p1ck"
      }
    },
    {
      "cell_type": "markdown",
      "source": [
        "1. Bedford-Stuyvesant has got high total reviews with 4800 reviews.\n",
        "2. Williamsburg is second with 3300 reviews\n",
        "3. while Harlem is third with 2900 reviews."
      ],
      "metadata": {
        "id": "ZYdMsrqVp1ck"
      }
    },
    {
      "cell_type": "markdown",
      "source": [
        "##### 3. Will the gained insights help creating a positive business impact?\n",
        "Are there any insights that lead to negative growth? Justify with specific reason."
      ],
      "metadata": {
        "id": "PVzmfK_Ep1ck"
      }
    },
    {
      "cell_type": "markdown",
      "source": [
        "Answer Here"
      ],
      "metadata": {
        "id": "druuKYZpp1ck"
      }
    },
    {
      "cell_type": "markdown",
      "source": [
        "# 12. What are the top ten most host listed cities?"
      ],
      "metadata": {
        "id": "n3dbpmDWp1ck"
      }
    },
    {
      "cell_type": "code",
      "source": [
        "# Chart - 12 visualization code\n",
        "\n",
        "#create a sub dataframe\n",
        "df_neighbourhood_listing = df[[\"neighbourhood\",\"calculated_host_listings_count\"]]\n",
        "\n",
        "#calculate the total host listing count\n",
        "df_neighbourhood_listing_group = df_neighbourhood_listing.groupby(\"neighbourhood\").sum().reset_index().rename(columns = {\"calculated_host_listings_count\":\"Total_host_listing_count\"}).sort_values(\"Total_host_listing_count\",ascending = False).head(10)\n",
        "\n",
        "df_neighbourhood_listing_group\n",
        "\n"
      ],
      "metadata": {
        "id": "bwevp1tKp1ck"
      },
      "execution_count": null,
      "outputs": []
    },
    {
      "cell_type": "code",
      "source": [
        "#assigning the variables\n",
        "neighbourhood = df_neighbourhood_listing_group[\"neighbourhood\"]\n",
        "Total_host_listing= df_neighbourhood_listing_group[\"Total_host_listing_count\"]\n",
        "\n",
        "#visualization\n",
        "plt.figure(figsize=(16,4))\n",
        "plt.plot(neighbourhood, Total_host_listing)\n",
        "plt.xlabel(\"Neighbourhood\")\n",
        "plt.ylabel(\"Total_host_listing\")\n",
        "plt.title(\"Most Host Listing By Neighbourhood\")"
      ],
      "metadata": {
        "id": "0wT6wcE74h8l"
      },
      "execution_count": null,
      "outputs": []
    },
    {
      "cell_type": "markdown",
      "source": [
        "##### 1. Why did you pick the specific chart?"
      ],
      "metadata": {
        "id": "ylSl6qgtp1ck"
      }
    },
    {
      "cell_type": "markdown",
      "source": [
        "To show the decrease of values while descending from highest host neighbourhood to the lowest in top 10."
      ],
      "metadata": {
        "id": "m2xqNkiQp1ck"
      }
    },
    {
      "cell_type": "markdown",
      "source": [
        "##### 2. What is/are the insight(s) found from the chart?"
      ],
      "metadata": {
        "id": "ZWILFDl5p1ck"
      }
    },
    {
      "cell_type": "markdown",
      "source": [
        "1. Financial District hosted the most with 69000 host listing.\n",
        "2. Murray Hill hosted the second with 25000 host listing.\n",
        "3. Hells kitchen is in the third with 21910 host listing."
      ],
      "metadata": {
        "id": "x-lUsV2mp1ck"
      }
    },
    {
      "cell_type": "markdown",
      "source": [
        "##### 3. Will the gained insights help creating a positive business impact?\n",
        "Are there any insights that lead to negative growth? Justify with specific reason."
      ],
      "metadata": {
        "id": "M7G43BXep1ck"
      }
    },
    {
      "cell_type": "markdown",
      "source": [
        "Answer Here"
      ],
      "metadata": {
        "id": "5wwDJXsLp1cl"
      }
    },
    {
      "cell_type": "markdown",
      "source": [
        "# 13. What are the top ten most available cities in the next year?"
      ],
      "metadata": {
        "id": "Ag9LCva-p1cl"
      }
    },
    {
      "cell_type": "code",
      "source": [
        "# Chart - 13 visualization code\n",
        "\n",
        "#create a sub data frame\n",
        "df_neighbourhood_availability = df[[\"neighbourhood\",\"availability_365\"]]\n",
        "\n",
        "#calculate the availability in each cities\n",
        "df_neighbourhood_availability_group = df_neighbourhood_availability.groupby(\"neighbourhood\").mean().reset_index().rename(columns = {\"availability_365\":\"avg_avail\"}).sort_values(\"avg_avail\", ascending = False).head(10)\n",
        "\n",
        "df_neighbourhood_availability_group"
      ],
      "metadata": {
        "id": "EUfxeq9-p1cl"
      },
      "execution_count": null,
      "outputs": []
    },
    {
      "cell_type": "code",
      "source": [
        "#assigning the variable\n",
        "neighbourhood = df_neighbourhood_availability_group[\"neighbourhood\"]\n",
        "average_availability = df_neighbourhood_availability_group[\"avg_avail\"]\n",
        "\n",
        "#visualization\n",
        "plt.figure(figsize=(16,4))\n",
        "plt.plot(neighbourhood, average_availability)\n",
        "plt.xlabel(\"Neighbourhood\")\n",
        "plt.ylabel(\"average availability\")\n",
        "plt.title(\"Average Availability in Neighbourhood\")"
      ],
      "metadata": {
        "id": "F9SK-oCF786V"
      },
      "execution_count": null,
      "outputs": []
    },
    {
      "cell_type": "markdown",
      "source": [
        "##### 1. Why did you pick the specific chart?"
      ],
      "metadata": {
        "id": "E6MkPsBcp1cl"
      }
    },
    {
      "cell_type": "markdown",
      "source": [
        "To show the highest average availability days in neighbourhood and the next top 9 most availabiity in neighbourhood."
      ],
      "metadata": {
        "id": "V22bRsFWp1cl"
      }
    },
    {
      "cell_type": "markdown",
      "source": [
        "##### 2. What is/are the insight(s) found from the chart?"
      ],
      "metadata": {
        "id": "2cELzS2fp1cl"
      }
    },
    {
      "cell_type": "markdown",
      "source": [
        "1. Co-op city has 364 days availability.\n",
        "2. Willow brook has 351 days availability.\n",
        "3. Spuyten Duyvil, Eastchester, Richmondtown has 300+ days availability\n",
        "4. Tottenville has 267 days availability."
      ],
      "metadata": {
        "id": "ozQPc2_Ip1cl"
      }
    },
    {
      "cell_type": "markdown",
      "source": [
        "##### 3. Will the gained insights help creating a positive business impact?\n",
        "Are there any insights that lead to negative growth? Justify with specific reason."
      ],
      "metadata": {
        "id": "3MPXvC8up1cl"
      }
    },
    {
      "cell_type": "markdown",
      "source": [
        "Answer Here"
      ],
      "metadata": {
        "id": "GL8l1tdLp1cl"
      }
    },
    {
      "cell_type": "markdown",
      "source": [
        "#### Chart - 14 - Correlation Heatmap"
      ],
      "metadata": {
        "id": "NC_X3p0fY2L0"
      }
    },
    {
      "cell_type": "code",
      "source": [
        "# Correlation Heatmap visualization code\n",
        "\n",
        "corr = df.corr()\n",
        "\n",
        "corr"
      ],
      "metadata": {
        "id": "xyC9zolEZNRQ"
      },
      "execution_count": null,
      "outputs": []
    },
    {
      "cell_type": "code",
      "source": [
        "sns.heatmap(corr, annot = True) #visualization"
      ],
      "metadata": {
        "id": "Hz4xIgzy9baj"
      },
      "execution_count": null,
      "outputs": []
    },
    {
      "cell_type": "markdown",
      "source": [
        "##### 1. Why did you pick the specific chart?"
      ],
      "metadata": {
        "id": "UV0SzAkaZNRQ"
      }
    },
    {
      "cell_type": "markdown",
      "source": [
        "Answer Here."
      ],
      "metadata": {
        "id": "DVPuT8LYZNRQ"
      }
    },
    {
      "cell_type": "markdown",
      "source": [
        "##### 2. What is/are the insight(s) found from the chart?"
      ],
      "metadata": {
        "id": "YPEH6qLeZNRQ"
      }
    },
    {
      "cell_type": "markdown",
      "source": [
        "price and number of reviews has a correlation of 0.028. which tend to see that reviews affect the pricing.\n",
        "Also minimum nights and price has a correlation of 0.031 which also affects the price.\n",
        "reviews per month and availability has a correlation of 0.23 which affects the availabilty."
      ],
      "metadata": {
        "id": "bfSqtnDqZNRR"
      }
    },
    {
      "cell_type": "markdown",
      "source": [
        "#### Chart - 15 - Pair Plot"
      ],
      "metadata": {
        "id": "q29F0dvdveiT"
      }
    },
    {
      "cell_type": "code",
      "source": [
        "# Pair Plot visualization code\n",
        "\n",
        "sns.pairplot(df)\n",
        "\n",
        "plt.show()"
      ],
      "metadata": {
        "id": "o58-TEIhveiU"
      },
      "execution_count": null,
      "outputs": []
    },
    {
      "cell_type": "markdown",
      "source": [
        "##### 1. Why did you pick the specific chart?"
      ],
      "metadata": {
        "id": "EXh0U9oCveiU"
      }
    },
    {
      "cell_type": "markdown",
      "source": [
        "Answer Here."
      ],
      "metadata": {
        "id": "eMmPjTByveiU"
      }
    },
    {
      "cell_type": "markdown",
      "source": [
        "##### 2. What is/are the insight(s) found from the chart?"
      ],
      "metadata": {
        "id": "22aHeOlLveiV"
      }
    },
    {
      "cell_type": "markdown",
      "source": [
        "Answer Here"
      ],
      "metadata": {
        "id": "uPQ8RGwHveiV"
      }
    },
    {
      "cell_type": "markdown",
      "source": [
        "# **Conclusion**"
      ],
      "metadata": {
        "id": "gCX9965dhzqZ"
      }
    },
    {
      "cell_type": "markdown",
      "source": [
        "1. Manhattan has the highest price. Brooklyn has the second highest price after Manhattan. Bronx has the least price. Queens and Staten Island has the same price range of least and highest.\n",
        "2. The most popular room is Entire home/apt in manhattan. Second highest is private room in Brooklyn. Least popular room is shared room in staten island. Also private room and entire home/apt in brooklyn has good bookings. While all rooms in bronx and shared room in all areas are not having good bookings.\n",
        "3. Manhattan is the highest avg price city and Bronx is the lowest avg price city. Also Brooklyn is the Second highest avg price city. while Queens and Staten Island is neither Highest nor lowest while it meets in the middle.\n",
        "4. Both Manhattan and Brooklyn has the highest number of listings. Bronx and Staten Island has the least number of listings. Queens has only 6000 listings as difference from 19000 each of brooklyn and manhattan  listings.\n",
        "5. Brooklyn has 5000 listing for 2 minimum nights, 4000 for 1 minimum nights and 3000 for 3 minimum nights. Also it has 994 listing for 30 minimum nights. Manhattan has 5000 listing for 1 minimum nights, 4000 for 2 minimum nights and 3000 for 3 minimum nights. Queens has 2000 listing for 1 minimum nights, 1300 for 2 minimum nights and 696 for 3 minimum nights. Staten Island has 121 listing for 2 minimum nights, 110 for 1 minimum nights and 46 for 3 minimum nights. Bronx has 350 listing for 1 minimum nights, 340 for 2 minimum nights and 178 for 3 minimum nights.\n",
        "6. Brooklyn has the highest number of reviews followed by Manhattan. Staten Island has the least number of reviews preceded by Bronx. Queens only has 14.2% reviews.\n",
        "7. Staten Island has the highest availability for next year with 200 days average followed by Bronx and Queens with 175 and 140 each. Manhattan and Brooklyn has the least availability with 100 and9 90 days.\n",
        "8. Bulls head in staten island is the lowest avg price followed by hunts point, tremont and sound view in Bronx. In between 47 and 59, we got 5 staten island, 4 Bronx and 1 queens neighbourhood in the lowest average price. Willowbrook in Staten island is the highest avg price followed by Neponsit and Breezy point in Queens. In between 250 and 179, we got 1 staten island, 2 Queens and 7 Manhattan neighbourhood in the highest average price.\n",
        "9. In private rooms, most were listed in Bedford-Stuyvesant with 2026 and williamsburg with 1977. In Entire home/apt rooms, most were listed in williamburg with 1723 and Bedford-Stuyvesant with 1528. In shared rooms, most were listed in Hell's kitchen with 95 and Bedford-Stuyvesant with 84. but in this session williamsburg have only 32 listing placing at 9 position in top 10.\n",
        "10. Spuyten Duyvil has the highest avg min nights with 60+ days. Second is North riverdale with 40+ avg min nights. But from third to 10 positions, they lie in between 25 to 10 days.\n",
        "11. Bedford-Stuyvesant has got high total reviews with 4800 reviews. Williamsburg is second with 3300 reviews. while Harlem is third with 2900 reviews.\n",
        "12. Financial District hosted the most with 69000 host listing. Murray Hill hosted the second with 25000 host listing. Hells kitchen is in the third with 21910 host listing.\n",
        "13. On average Co-op city has 364 days availability. Willow brook has 351 days availability. Spuyten Duyvil, Eastchester, Richmondtown has 300+ days availability Tottenville has 267 days availability.\n",
        "14. price and number of reviews has a correlation of 0.028. which tend to see that reviews affect the pricing.\n",
        "15. Also minimum nights and price has a correlation of 0.031 which also affects the price.\n",
        "16. reviews per month and availability has a correlation of 0.23 which affects the availabilty."
      ],
      "metadata": {
        "id": "Fjb1IsQkh3yE"
      }
    },
    {
      "cell_type": "markdown",
      "source": [
        "### ***Hurrah! You have successfully completed your EDA Capstone Project !!!***"
      ],
      "metadata": {
        "id": "gIfDvo9L0UH2"
      }
    }
  ]
}